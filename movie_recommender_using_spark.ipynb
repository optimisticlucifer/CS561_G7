{
 "cells": [
  {
   "cell_type": "code",
   "execution_count": 64,
   "metadata": {},
   "outputs": [],
   "source": [
    "import pyspark\n",
    "import warnings\n",
    "warnings.filterwarnings('ignore')"
   ]
  },
  {
   "cell_type": "code",
   "execution_count": 65,
   "metadata": {},
   "outputs": [],
   "source": [
    "from pyspark.sql import SparkSession\n",
    "spark = SparkSession.builder.appName('recommendation').getOrCreate()"
   ]
  },
  {
   "cell_type": "code",
   "execution_count": 66,
   "metadata": {},
   "outputs": [],
   "source": [
    "from pyspark.ml.evaluation import RegressionEvaluator\n",
    "from pyspark.ml.recommendation import ALS"
   ]
  },
  {
   "cell_type": "code",
   "execution_count": 67,
   "metadata": {},
   "outputs": [],
   "source": [
    "data = spark.read.csv('ml-latest-small/ratings.csv',inferSchema=True,header=True)\n",
    "# data = spark.read.csv('ml-25m/ratings.csv',inferSchema=True,header=True)"
   ]
  },
  {
   "cell_type": "code",
   "execution_count": 68,
   "metadata": {},
   "outputs": [
    {
     "data": {
      "text/plain": [
       "Row(userId=1, movieId=1, rating=4.0, timestamp=964982703)"
      ]
     },
     "execution_count": 68,
     "metadata": {},
     "output_type": "execute_result"
    }
   ],
   "source": [
    "data.head()"
   ]
  },
  {
   "cell_type": "code",
   "execution_count": 69,
   "metadata": {},
   "outputs": [
    {
     "name": "stdout",
     "output_type": "stream",
     "text": [
      "root\n",
      " |-- userId: integer (nullable = true)\n",
      " |-- movieId: integer (nullable = true)\n",
      " |-- rating: double (nullable = true)\n",
      " |-- timestamp: integer (nullable = true)\n",
      "\n"
     ]
    }
   ],
   "source": [
    "data.printSchema()"
   ]
  },
  {
   "cell_type": "code",
   "execution_count": 70,
   "metadata": {},
   "outputs": [
    {
     "name": "stdout",
     "output_type": "stream",
     "text": [
      "+-------+------------------+----------------+------------------+--------------------+\n",
      "|summary|            userId|         movieId|            rating|           timestamp|\n",
      "+-------+------------------+----------------+------------------+--------------------+\n",
      "|  count|            100836|          100836|            100836|              100836|\n",
      "|   mean|326.12756356856676|19435.2957177992| 3.501556983616962|1.2059460873684695E9|\n",
      "| stddev| 182.6184914635004|35530.9871987003|1.0425292390606342|2.1626103599513078E8|\n",
      "|    min|                 1|               1|               0.5|           828124615|\n",
      "|    max|               610|          193609|               5.0|          1537799250|\n",
      "+-------+------------------+----------------+------------------+--------------------+\n",
      "\n"
     ]
    }
   ],
   "source": [
    "data.describe().show()"
   ]
  },
  {
   "cell_type": "code",
   "execution_count": 71,
   "metadata": {},
   "outputs": [],
   "source": [
    "# Smaller dataset so we will use 0.8 / 0.2\n",
    "(train_data, test_data) = data.randomSplit([0.8, 0.2], seed=42)"
   ]
  },
  {
   "cell_type": "code",
   "execution_count": 72,
   "metadata": {},
   "outputs": [
    {
     "name": "stdout",
     "output_type": "stream",
     "text": [
      "rank 5 param 0.01 ========> done\n",
      "rank 5 param 0.02 ========> done\n",
      "rank 5 param 0.03 ========> done\n",
      "rank 5 param 0.04 ========> done\n",
      "rank 5 param 0.05 ========> done\n",
      "rank 10 param 0.01 ========> done\n",
      "rank 10 param 0.02 ========> done\n",
      "rank 10 param 0.03 ========> done\n",
      "rank 10 param 0.04 ========> done\n",
      "rank 10 param 0.05 ========> done\n",
      "rank 15 param 0.01 ========> done\n",
      "rank 15 param 0.02 ========> done\n",
      "rank 15 param 0.03 ========> done\n",
      "rank 15 param 0.04 ========> done\n",
      "rank 15 param 0.05 ========> done\n",
      "rank 20 param 0.01 ========> done\n",
      "rank 20 param 0.02 ========> done\n",
      "rank 20 param 0.03 ========> done\n",
      "rank 20 param 0.04 ========> done\n",
      "rank 20 param 0.05 ========> done\n",
      "+------+-------+------+---------+----------+\n",
      "|userId|movieId|rating|timestamp|prediction|\n",
      "+------+-------+------+---------+----------+\n",
      "|     1|      6|   4.0|964982224| 4.3425045|\n",
      "|     1|    101|   5.0|964980868|   3.56074|\n",
      "|     1|    151|   5.0|964984041| 4.1308126|\n",
      "|     1|    231|   5.0|964981179| 3.7429395|\n",
      "|     1|    349|   4.0|964982563|   3.96025|\n",
      "|     1|    423|   3.0|964982363| 3.2417707|\n",
      "|     1|    543|   4.0|964981179|  4.330907|\n",
      "|     1|    596|   5.0|964982838| 3.9245913|\n",
      "|     1|    923|   5.0|964981529|  4.555496|\n",
      "|     1|    940|   5.0|964982176|   4.17733|\n",
      "|     1|    943|   4.0|964983614| 3.8304183|\n",
      "|     1|   1009|   3.0|964981775| 3.8385594|\n",
      "|     1|   1024|   5.0|964982876|  3.765919|\n",
      "|     1|   1031|   5.0|964982653|  5.064827|\n",
      "|     1|   1089|   5.0|964982951| 5.0626817|\n",
      "|     1|   1197|   5.0|964981872| 4.9457917|\n",
      "|     1|   1220|   5.0|964981909|   4.56793|\n",
      "|     1|   1573|   5.0|964982290| 3.9188936|\n",
      "|     1|   1805|   4.0|964983056|  4.333993|\n",
      "|     1|   1967|   4.0|964981710|  4.367433|\n",
      "+------+-------+------+---------+----------+\n",
      "only showing top 20 rows\n",
      "\n",
      "Minmum Root Mean Square Error (RMSE) is : 0.961174126122831\n",
      "For rank 5 and regParam 0.05\n"
     ]
    }
   ],
   "source": [
    "# Build the recommendation model using ALS on the training data\n",
    "from pyspark.ml.evaluation import RegressionEvaluator\n",
    "\n",
    "rank=[5,10,15,20]\n",
    "regParam=[0.01,0.02,0.03,0.04,0.05]\n",
    "minr=None\n",
    "minp=None\n",
    "minrmse=None\n",
    "model=None\n",
    "\n",
    "for r in rank:\n",
    "    for p in regParam:\n",
    "        print(f\"rank {r} param {p} ========> done\")\n",
    "        als = ALS(maxIter=3, regParam=p,rank=r, userCol=\"userId\", itemCol=\"movieId\", ratingCol=\"rating\")\n",
    "        model = als.fit(train_data)\n",
    "        predictions = model.transform(test_data)\n",
    "        evaluator = RegressionEvaluator(labelCol=\"rating\", predictionCol=\"prediction\", metricName=\"rmse\")\n",
    "        cleanPred = predictions.dropna(how=\"any\", subset=[\"prediction\"])\n",
    "        rmse = evaluator.evaluate(cleanPred)\n",
    "        if (minp == None and minr==None) :\n",
    "            minp=p\n",
    "            minr=r\n",
    "            minrmse=rmse\n",
    "        \n",
    "        if(rmse<minrmse):\n",
    "            minp=p\n",
    "            minr=r\n",
    "            minrmse=rmse\n",
    "\n",
    "predictions.show()\n",
    "print (\"Minmum Root Mean Square Error (RMSE) is :\", rmse)\n",
    "print(f\"For rank {minr} and regParam {minp}\")\n"
   ]
  },
  {
   "cell_type": "code",
   "execution_count": 73,
   "metadata": {},
   "outputs": [],
   "source": [
    "single_user = test_data.filter(test_data['userId']==12).select(['movieId','userId'])"
   ]
  },
  {
   "cell_type": "code",
   "execution_count": 74,
   "metadata": {},
   "outputs": [
    {
     "name": "stdout",
     "output_type": "stream",
     "text": [
      "+-------+------+\n",
      "|movieId|userId|\n",
      "+-------+------+\n",
      "|    357|    12|\n",
      "|    543|    12|\n",
      "|    830|    12|\n",
      "|   2072|    12|\n",
      "|   2717|    12|\n",
      "|   4018|    12|\n",
      "|  40629|    12|\n",
      "+-------+------+\n",
      "\n"
     ]
    }
   ],
   "source": [
    "# User had 7 ratings in the test data set \n",
    "# Realistically this should be some sort of hold out set!\n",
    "single_user.show()"
   ]
  },
  {
   "cell_type": "code",
   "execution_count": 75,
   "metadata": {},
   "outputs": [],
   "source": [
    "reccomendations = model.transform(single_user)"
   ]
  },
  {
   "cell_type": "code",
   "execution_count": 76,
   "metadata": {},
   "outputs": [
    {
     "name": "stdout",
     "output_type": "stream",
     "text": [
      "+-------+------+----------+\n",
      "|movieId|userId|prediction|\n",
      "+-------+------+----------+\n",
      "|  40629|    12| 4.9405403|\n",
      "|   4018|    12|  4.877439|\n",
      "|    543|    12|  3.724832|\n",
      "|    830|    12| 3.6777914|\n",
      "|   2717|    12|  3.622339|\n",
      "|    357|    12|  3.359665|\n",
      "|   2072|    12| 2.7380674|\n",
      "+-------+------+----------+\n",
      "\n"
     ]
    }
   ],
   "source": [
    "reccomendations.orderBy('prediction',ascending=False).show()"
   ]
  },
  {
   "cell_type": "markdown",
   "metadata": {},
   "source": [
    "We can recommend movie with id 40629 to user. The user might like those based on previous history. However, we say don't watch movies with id 830. You might don't like it."
   ]
  },
  {
   "cell_type": "markdown",
   "metadata": {},
   "source": [
    "What if a user has never watched any movie or a new user, what we can recommend, it's called a cold start in the recommendation system. Well, in that case, we can ask the user to take a survey and get an idea of his interest in movies. Or we can give other users recommendations. Cold start is a problem for the recommendation system problem in general."
   ]
  },
  {
   "cell_type": "code",
   "execution_count": null,
   "metadata": {},
   "outputs": [],
   "source": []
  }
 ],
 "metadata": {
  "anaconda-cloud": {},
  "kernelspec": {
   "display_name": "Python 3.9.6 ('base')",
   "language": "python",
   "name": "python3"
  },
  "language_info": {
   "codemirror_mode": {
    "name": "ipython",
    "version": 3
   },
   "file_extension": ".py",
   "mimetype": "text/x-python",
   "name": "python",
   "nbconvert_exporter": "python",
   "pygments_lexer": "ipython3",
   "version": "3.9.6"
  },
  "vscode": {
   "interpreter": {
    "hash": "c6e4e9f98eb68ad3b7c296f83d20e6de614cb42e90992a65aa266555a3137d0d"
   }
  }
 },
 "nbformat": 4,
 "nbformat_minor": 1
}
